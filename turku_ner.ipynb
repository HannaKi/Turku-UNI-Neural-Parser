{
  "nbformat": 4,
  "nbformat_minor": 0,
  "metadata": {
    "colab": {
      "name": "turku-ner.ipynb",
      "provenance": [],
      "authorship_tag": "ABX9TyOtV+bQ07TYfWJ5Y6Exc55Y",
      "include_colab_link": true
    },
    "kernelspec": {
      "name": "python3",
      "display_name": "Python 3"
    },
    "accelerator": "GPU"
  },
  "cells": [
    {
      "cell_type": "markdown",
      "metadata": {
        "id": "view-in-github",
        "colab_type": "text"
      },
      "source": [
        "<a href=\"https://colab.research.google.com/github/fginter/ainl_2020_tutorial/blob/main/turku_ner.ipynb\" target=\"_parent\"><img src=\"https://colab.research.google.com/assets/colab-badge.svg\" alt=\"Open In Colab\"/></a>"
      ]
    },
    {
      "cell_type": "markdown",
      "metadata": {
        "id": "qg7M7dIy3uM1"
      },
      "source": [
        "# Turku NER system\n",
        "\n",
        "* https://turkunlp.org/fin-ner.html\n",
        "* Currently (officially) supported mode of running as a server\n",
        "* With a little effort can be run in a Colab notebook too\n",
        "* Let us try!"
      ]
    },
    {
      "cell_type": "code",
      "metadata": {
        "id": "KkxHJirIhJTO",
        "outputId": "acb45ffe-2746-4555-920b-8b1b3a6a67e2",
        "colab": {
          "base_uri": "https://localhost:8080/",
          "height": 34
        }
      },
      "source": [
        "%tensorflow_version 1.x"
      ],
      "execution_count": 2,
      "outputs": [
        {
          "output_type": "stream",
          "text": [
            "TensorFlow 1.x selected.\n"
          ],
          "name": "stdout"
        }
      ]
    },
    {
      "cell_type": "code",
      "metadata": {
        "id": "y1XPKHIRfK6e",
        "outputId": "b579dc7f-3a25-417b-f6ae-81488bbf35f4",
        "colab": {
          "base_uri": "https://localhost:8080/",
          "height": 493
        }
      },
      "source": [
        "%%bash\n",
        "\n",
        "#Download the code\n",
        "wget -nc -q https://github.com/spyysalo/keras-bert-ner/archive/master.zip\n",
        "unzip -o master.zip\n",
        "echo \"Code ready\"\n"
      ],
      "execution_count": 7,
      "outputs": [
        {
          "output_type": "stream",
          "text": [
            "Archive:  master.zip\n",
            "89282e7c93d768861760d9cecb6e9ff51f5497be\n",
            "  inflating: keras-bert-ner-master/.gitmodules  \n",
            "  inflating: keras-bert-ner-master/LICENSE  \n",
            "  inflating: keras-bert-ner-master/README.md  \n",
            "  inflating: keras-bert-ner-master/bert_tokenization.py  \n",
            "  inflating: keras-bert-ner-master/common.py  \n",
            "  inflating: keras-bert-ner-master/compare.py  \n",
            "  inflating: keras-bert-ner-master/config.py  \n",
            "  inflating: keras-bert-ner-master/conlleval.py  \n",
            "  inflating: keras-bert-ner-master/logs/.gitignore  \n",
            "  inflating: keras-bert-ner-master/ner.py  \n",
            "  inflating: keras-bert-ner-master/predict.py  \n",
            " extracting: keras-bert-ner-master/requirements.txt  \n",
            "  inflating: keras-bert-ner-master/scripts/get-finer.sh  \n",
            "  inflating: keras-bert-ner-master/scripts/get-models.sh  \n",
            "  inflating: keras-bert-ner-master/scripts/get-turku-ner.sh  \n",
            "  inflating: keras-bert-ner-master/scripts/predict-finer-news.sh  \n",
            "  inflating: keras-bert-ner-master/scripts/predict-turku-ner.sh  \n",
            "  inflating: keras-bert-ner-master/scripts/run-finer-news.sh  \n",
            "  inflating: keras-bert-ner-master/scripts/run-turku-ner.sh  \n",
            "  inflating: keras-bert-ner-master/scripts/slurm-run.sh  \n",
            "  inflating: keras-bert-ner-master/serve.py  \n",
            "  inflating: keras-bert-ner-master/slurm/run-dev.sh  \n",
            "  inflating: keras-bert-ner-master/slurm/run-parameter-grid.sh  \n",
            "  inflating: keras-bert-ner-master/slurm/select_params.py  \n",
            "  inflating: keras-bert-ner-master/slurm/summarize.py  \n",
            "Code ready\n"
          ],
          "name": "stdout"
        }
      ]
    },
    {
      "cell_type": "code",
      "metadata": {
        "id": "UnKv6dqFujDm",
        "outputId": "4f70493f-15aa-44b9-8f53-52c1e8bbeb53",
        "colab": {
          "base_uri": "https://localhost:8080/",
          "height": 323
        }
      },
      "source": [
        "#Gdown is a utility for downloading large files from Google Drive, where I mirrored the NER trained model for you\n",
        "\n",
        "!pip install gdown\n",
        "!gdown -O keras-bert-ner-master/combined-ext-model-130220.tar.gz 'https://drive.google.com/uc?export=download&id=1dVssG4leJGi1JWLgW4qJH4vhw459mrOT'\n",
        "!cd keras-bert-ner-master && tar xvzf combined-ext-model-130220.tar.gz\n",
        "!echo \"Model Ready\""
      ],
      "execution_count": 16,
      "outputs": [
        {
          "output_type": "stream",
          "text": [
            "Requirement already satisfied: gdown in /usr/local/lib/python3.6/dist-packages (3.6.4)\n",
            "Requirement already satisfied: requests in /usr/local/lib/python3.6/dist-packages (from gdown) (2.23.0)\n",
            "Requirement already satisfied: six in /usr/local/lib/python3.6/dist-packages (from gdown) (1.15.0)\n",
            "Requirement already satisfied: tqdm in /usr/local/lib/python3.6/dist-packages (from gdown) (4.41.1)\n",
            "Requirement already satisfied: chardet<4,>=3.0.2 in /usr/local/lib/python3.6/dist-packages (from requests->gdown) (3.0.4)\n",
            "Requirement already satisfied: certifi>=2017.4.17 in /usr/local/lib/python3.6/dist-packages (from requests->gdown) (2020.6.20)\n",
            "Requirement already satisfied: urllib3!=1.25.0,!=1.25.1,<1.26,>=1.21.1 in /usr/local/lib/python3.6/dist-packages (from requests->gdown) (1.24.3)\n",
            "Requirement already satisfied: idna<3,>=2.5 in /usr/local/lib/python3.6/dist-packages (from requests->gdown) (2.10)\n",
            "Downloading...\n",
            "From: https://drive.google.com/uc?export=download&id=1dVssG4leJGi1JWLgW4qJH4vhw459mrOT\n",
            "To: /content/keras-bert-ner-master/combined-ext-model-130220.tar.gz\n",
            "1.31GB [00:09, 133MB/s]\n",
            "combined-ext-model/\n",
            "combined-ext-model/config.json\n",
            "combined-ext-model/labels.txt\n",
            "combined-ext-model/model.hdf5\n",
            "combined-ext-model/vocab.txt\n",
            "Model Ready\n"
          ],
          "name": "stdout"
        }
      ]
    },
    {
      "cell_type": "code",
      "metadata": {
        "id": "zCiBVbyMgt3-",
        "outputId": "7c0fdd50-8304-47e0-bc51-6c0c1640f7fc",
        "colab": {
          "base_uri": "https://localhost:8080/",
          "height": 153
        }
      },
      "source": [
        "!pip3 -q install keras-bert"
      ],
      "execution_count": 17,
      "outputs": [
        {
          "output_type": "stream",
          "text": [
            "  Building wheel for keras-bert (setup.py) ... \u001b[?25l\u001b[?25hdone\n",
            "  Building wheel for keras-transformer (setup.py) ... \u001b[?25l\u001b[?25hdone\n",
            "  Building wheel for keras-pos-embd (setup.py) ... \u001b[?25l\u001b[?25hdone\n",
            "  Building wheel for keras-multi-head (setup.py) ... \u001b[?25l\u001b[?25hdone\n",
            "  Building wheel for keras-layer-normalization (setup.py) ... \u001b[?25l\u001b[?25hdone\n",
            "  Building wheel for keras-position-wise-feed-forward (setup.py) ... \u001b[?25l\u001b[?25hdone\n",
            "  Building wheel for keras-embed-sim (setup.py) ... \u001b[?25l\u001b[?25hdone\n",
            "  Building wheel for keras-self-attention (setup.py) ... \u001b[?25l\u001b[?25hdone\n"
          ],
          "name": "stdout"
        }
      ]
    },
    {
      "cell_type": "code",
      "metadata": {
        "id": "t6F0wkVNpYII"
      },
      "source": [
        "import os\n",
        "os.chdir(\"keras-bert-ner-master\")\n",
        "import serve\n",
        "\n",
        "#Load the tagger\n",
        "tagger=serve.Tagger.load(\"combined-ext-model\")"
      ],
      "execution_count": null,
      "outputs": []
    },
    {
      "cell_type": "markdown",
      "metadata": {
        "id": "nfUmfR6y4nqY"
      },
      "source": [
        "# Test the tagger\n",
        "\n",
        "* Now that the `tagger` is loaded into memory, we can tag arbitrary texts"
      ]
    },
    {
      "cell_type": "code",
      "metadata": {
        "id": "gp57VEiFp6Fr"
      },
      "source": [
        "txt=\"\"\"\n",
        "Turun yliopisto (lyhenne TY tai UTU) on ensimmäinen täysin suomenkielinen yliopisto, joka perustettiin 1920. Yliopisto on kansainvälisesti kilpailukykyinen tiedeyliopisto, jonka toiminta perustuu korkeatasoiseen ja monialaiseen tutkimukseen.\n",
        "\"\"\"\n",
        "txt_tagged=tagger.tag(txt)"
      ],
      "execution_count": 19,
      "outputs": []
    },
    {
      "cell_type": "code",
      "metadata": {
        "id": "iGI26A8S5Pbk",
        "outputId": "a9fc7c32-3b30-40e0-95bf-a1b2b9a20df8",
        "colab": {
          "base_uri": "https://localhost:8080/",
          "height": 69
        }
      },
      "source": [
        "txt_tagged"
      ],
      "execution_count": 20,
      "outputs": [
        {
          "output_type": "execute_result",
          "data": {
            "application/vnd.google.colaboratory.intrinsic+json": {
              "type": "string"
            },
            "text/plain": [
              "'Turun\\tB-ORG\\nyliopisto\\tI-ORG\\n(\\tO\\nlyhenne\\tO\\nTY\\tB-ORG\\ntai\\tO\\nUTU\\tB-ORG\\n)\\tO\\non\\tO\\nensimmäinen\\tO\\ntäysin\\tO\\nsuomenkielinen\\tB-LANGUAGE\\nyliopisto\\tO\\n,\\tO\\njoka\\tO\\nperustettiin\\tO\\n1920\\tB-DATE\\n.\\tO\\nYliopisto\\tO\\non\\tO\\nkansainvälisesti\\tO\\nkilpailukykyinen\\tO\\ntiedeyliopisto\\tO\\n,\\tO\\njonka\\tO\\ntoiminta\\tO\\nperustuu\\tO\\nkorkeatasoiseen\\tO\\nja\\tO\\nmonialaiseen\\tO\\ntutkimukseen\\tO\\n.\\tO\\n'"
            ]
          },
          "metadata": {
            "tags": []
          },
          "execution_count": 20
        }
      ]
    },
    {
      "cell_type": "code",
      "metadata": {
        "id": "Xww4IdEh5R9B",
        "outputId": "4e16a4f5-15a2-4605-ca5d-f518d6b6ab16",
        "colab": {
          "base_uri": "https://localhost:8080/",
          "height": 578
        }
      },
      "source": [
        "#Now we can split it\n",
        "lines=txt_tagged.split(\"\\n\")\n",
        "for l in lines:\n",
        "    print(l)"
      ],
      "execution_count": 21,
      "outputs": [
        {
          "output_type": "stream",
          "text": [
            "Turun\tB-ORG\n",
            "yliopisto\tI-ORG\n",
            "(\tO\n",
            "lyhenne\tO\n",
            "TY\tB-ORG\n",
            "tai\tO\n",
            "UTU\tB-ORG\n",
            ")\tO\n",
            "on\tO\n",
            "ensimmäinen\tO\n",
            "täysin\tO\n",
            "suomenkielinen\tB-LANGUAGE\n",
            "yliopisto\tO\n",
            ",\tO\n",
            "joka\tO\n",
            "perustettiin\tO\n",
            "1920\tB-DATE\n",
            ".\tO\n",
            "Yliopisto\tO\n",
            "on\tO\n",
            "kansainvälisesti\tO\n",
            "kilpailukykyinen\tO\n",
            "tiedeyliopisto\tO\n",
            ",\tO\n",
            "jonka\tO\n",
            "toiminta\tO\n",
            "perustuu\tO\n",
            "korkeatasoiseen\tO\n",
            "ja\tO\n",
            "monialaiseen\tO\n",
            "tutkimukseen\tO\n",
            ".\tO\n",
            "\n"
          ],
          "name": "stdout"
        }
      ]
    }
  ]
}