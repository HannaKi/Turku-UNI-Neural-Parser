{
  "nbformat": 4,
  "nbformat_minor": 0,
  "metadata": {
    "colab": {
      "name": "turku-ner.ipynb",
      "provenance": [],
      "authorship_tag": "ABX9TyORUor9p6wfFyZ37HA6kJvD",
      "include_colab_link": true
    },
    "kernelspec": {
      "name": "python3",
      "display_name": "Python 3"
    },
    "accelerator": "GPU"
  },
  "cells": [
    {
      "cell_type": "markdown",
      "metadata": {
        "id": "view-in-github",
        "colab_type": "text"
      },
      "source": [
        "<a href=\"https://colab.research.google.com/github/fginter/ainl_2020_tutorial/blob/main/turku_ner.ipynb\" target=\"_parent\"><img src=\"https://colab.research.google.com/assets/colab-badge.svg\" alt=\"Open In Colab\"/></a>"
      ]
    },
    {
      "cell_type": "code",
      "metadata": {
        "id": "KkxHJirIhJTO",
        "outputId": "69c62884-2f99-4be0-b247-19126c8d0b2d",
        "colab": {
          "base_uri": "https://localhost:8080/",
          "height": 34
        }
      },
      "source": [
        "%tensorflow_version 1.x"
      ],
      "execution_count": 1,
      "outputs": [
        {
          "output_type": "stream",
          "text": [
            "TensorFlow 1.x selected.\n"
          ],
          "name": "stdout"
        }
      ]
    },
    {
      "cell_type": "code",
      "metadata": {
        "id": "y1XPKHIRfK6e",
        "outputId": "8fd2b2c8-57e3-4916-adf1-4ae9fc1916cb",
        "colab": {
          "base_uri": "https://localhost:8080/",
          "height": 170
        }
      },
      "source": [
        "%%bash\n",
        "git clone https://github.com/spyysalo/keras-bert-ner.git\n",
        "cd keras-bert-ner/\n",
        "git submodule init\n",
        "git submodule update\n",
        "wget -q http://dl.turkunlp.org/turku-ner-models/combined-ext-model-130220.tar.gz\n",
        "tar xvzf combined-ext-model-130220.tar.gz\n",
        "echo \"Ready\""
      ],
      "execution_count": 2,
      "outputs": [
        {
          "output_type": "stream",
          "text": [
            "Submodule path 'bert': checked out 'cc7051dc592802f501e8a6f71f8fb3cf9de95dc9'\n",
            "combined-ext-model/\n",
            "combined-ext-model/config.json\n",
            "combined-ext-model/labels.txt\n",
            "combined-ext-model/model.hdf5\n",
            "combined-ext-model/vocab.txt\n"
          ],
          "name": "stdout"
        },
        {
          "output_type": "stream",
          "text": [
            "Cloning into 'keras-bert-ner'...\n",
            "Submodule 'bert' (https://github.com/google-research/bert.git) registered for path 'bert'\n",
            "Cloning into '/content/keras-bert-ner/bert'...\n"
          ],
          "name": "stderr"
        }
      ]
    },
    {
      "cell_type": "code",
      "metadata": {
        "id": "zCiBVbyMgt3-"
      },
      "source": [
        "%%bash\n",
        "pip3 -q install keras-bert"
      ],
      "execution_count": 4,
      "outputs": []
    },
    {
      "cell_type": "code",
      "metadata": {
        "id": "t6F0wkVNpYII"
      },
      "source": [
        "import os\n",
        "os.chdir(\"keras-bert-ner\")\n",
        "import serve\n",
        "\n",
        "tagger=serve.Tagger.load(\"combined-ext-model\")"
      ],
      "execution_count": null,
      "outputs": []
    },
    {
      "cell_type": "code",
      "metadata": {
        "id": "gp57VEiFp6Fr",
        "outputId": "2f96ade4-f6b9-4270-f9fa-974977a5b278",
        "colab": {
          "base_uri": "https://localhost:8080/",
          "height": 35
        }
      },
      "source": [
        "tagger.tag(\"Turun Yliopisto\")"
      ],
      "execution_count": 6,
      "outputs": [
        {
          "output_type": "execute_result",
          "data": {
            "application/vnd.google.colaboratory.intrinsic+json": {
              "type": "string"
            },
            "text/plain": [
              "'Turun\\tB-ORG\\nYliopisto\\tI-ORG\\n'"
            ]
          },
          "metadata": {
            "tags": []
          },
          "execution_count": 6
        }
      ]
    }
  ]
}