{
  "nbformat": 4,
  "nbformat_minor": 0,
  "metadata": {
    "colab": {
      "name": "parser-tnpp.ipynb",
      "provenance": [],
      "collapsed_sections": [],
      "toc_visible": true,
      "authorship_tag": "ABX9TyNpBlDpIcxFNsxA/4D3puze",
      "include_colab_link": true
    },
    "kernelspec": {
      "name": "python3",
      "display_name": "Python 3"
    },
    "accelerator": "GPU",
    "widgets": {
      "application/vnd.jupyter.widget-state+json": {
        "a6b849c5eff2431c992e2c027a1930ad": {
          "model_module": "@jupyter-widgets/controls",
          "model_name": "HBoxModel",
          "state": {
            "_view_name": "HBoxView",
            "_dom_classes": [],
            "_model_name": "HBoxModel",
            "_view_module": "@jupyter-widgets/controls",
            "_model_module_version": "1.5.0",
            "_view_count": null,
            "_view_module_version": "1.5.0",
            "box_style": "",
            "layout": "IPY_MODEL_f743b7eade844fbc8e865ba076d1a2b2",
            "_model_module": "@jupyter-widgets/controls",
            "children": [
              "IPY_MODEL_bae13a291d8c45f08033ba1bfaa7205d",
              "IPY_MODEL_824dc75176494a2a911d17bdc5663ef7"
            ]
          }
        },
        "f743b7eade844fbc8e865ba076d1a2b2": {
          "model_module": "@jupyter-widgets/base",
          "model_name": "LayoutModel",
          "state": {
            "_view_name": "LayoutView",
            "grid_template_rows": null,
            "right": null,
            "justify_content": null,
            "_view_module": "@jupyter-widgets/base",
            "overflow": null,
            "_model_module_version": "1.2.0",
            "_view_count": null,
            "flex_flow": null,
            "width": null,
            "min_width": null,
            "border": null,
            "align_items": null,
            "bottom": null,
            "_model_module": "@jupyter-widgets/base",
            "top": null,
            "grid_column": null,
            "overflow_y": null,
            "overflow_x": null,
            "grid_auto_flow": null,
            "grid_area": null,
            "grid_template_columns": null,
            "flex": null,
            "_model_name": "LayoutModel",
            "justify_items": null,
            "grid_row": null,
            "max_height": null,
            "align_content": null,
            "visibility": null,
            "align_self": null,
            "height": null,
            "min_height": null,
            "padding": null,
            "grid_auto_rows": null,
            "grid_gap": null,
            "max_width": null,
            "order": null,
            "_view_module_version": "1.2.0",
            "grid_template_areas": null,
            "object_position": null,
            "object_fit": null,
            "grid_auto_columns": null,
            "margin": null,
            "display": null,
            "left": null
          }
        },
        "bae13a291d8c45f08033ba1bfaa7205d": {
          "model_module": "@jupyter-widgets/controls",
          "model_name": "FloatProgressModel",
          "state": {
            "_view_name": "ProgressView",
            "style": "IPY_MODEL_5d720b535e174d12a9f0d202985c33a0",
            "_dom_classes": [],
            "description": "Downloading: 100%",
            "_model_name": "FloatProgressModel",
            "bar_style": "success",
            "max": 424343,
            "_view_module": "@jupyter-widgets/controls",
            "_model_module_version": "1.5.0",
            "value": 424343,
            "_view_count": null,
            "_view_module_version": "1.5.0",
            "orientation": "horizontal",
            "min": 0,
            "description_tooltip": null,
            "_model_module": "@jupyter-widgets/controls",
            "layout": "IPY_MODEL_65453b76dbe94259add181d3cf9fd12d"
          }
        },
        "824dc75176494a2a911d17bdc5663ef7": {
          "model_module": "@jupyter-widgets/controls",
          "model_name": "HTMLModel",
          "state": {
            "_view_name": "HTMLView",
            "style": "IPY_MODEL_f71b6aa4163c4357bba616554ed935d3",
            "_dom_classes": [],
            "description": "",
            "_model_name": "HTMLModel",
            "placeholder": "​",
            "_view_module": "@jupyter-widgets/controls",
            "_model_module_version": "1.5.0",
            "value": " 424k/424k [00:00&lt;00:00, 948kB/s]",
            "_view_count": null,
            "_view_module_version": "1.5.0",
            "description_tooltip": null,
            "_model_module": "@jupyter-widgets/controls",
            "layout": "IPY_MODEL_86c371582f1745989c5b45aa3b62a60f"
          }
        },
        "5d720b535e174d12a9f0d202985c33a0": {
          "model_module": "@jupyter-widgets/controls",
          "model_name": "ProgressStyleModel",
          "state": {
            "_view_name": "StyleView",
            "_model_name": "ProgressStyleModel",
            "description_width": "initial",
            "_view_module": "@jupyter-widgets/base",
            "_model_module_version": "1.5.0",
            "_view_count": null,
            "_view_module_version": "1.2.0",
            "bar_color": null,
            "_model_module": "@jupyter-widgets/controls"
          }
        },
        "65453b76dbe94259add181d3cf9fd12d": {
          "model_module": "@jupyter-widgets/base",
          "model_name": "LayoutModel",
          "state": {
            "_view_name": "LayoutView",
            "grid_template_rows": null,
            "right": null,
            "justify_content": null,
            "_view_module": "@jupyter-widgets/base",
            "overflow": null,
            "_model_module_version": "1.2.0",
            "_view_count": null,
            "flex_flow": null,
            "width": null,
            "min_width": null,
            "border": null,
            "align_items": null,
            "bottom": null,
            "_model_module": "@jupyter-widgets/base",
            "top": null,
            "grid_column": null,
            "overflow_y": null,
            "overflow_x": null,
            "grid_auto_flow": null,
            "grid_area": null,
            "grid_template_columns": null,
            "flex": null,
            "_model_name": "LayoutModel",
            "justify_items": null,
            "grid_row": null,
            "max_height": null,
            "align_content": null,
            "visibility": null,
            "align_self": null,
            "height": null,
            "min_height": null,
            "padding": null,
            "grid_auto_rows": null,
            "grid_gap": null,
            "max_width": null,
            "order": null,
            "_view_module_version": "1.2.0",
            "grid_template_areas": null,
            "object_position": null,
            "object_fit": null,
            "grid_auto_columns": null,
            "margin": null,
            "display": null,
            "left": null
          }
        },
        "f71b6aa4163c4357bba616554ed935d3": {
          "model_module": "@jupyter-widgets/controls",
          "model_name": "DescriptionStyleModel",
          "state": {
            "_view_name": "StyleView",
            "_model_name": "DescriptionStyleModel",
            "description_width": "",
            "_view_module": "@jupyter-widgets/base",
            "_model_module_version": "1.5.0",
            "_view_count": null,
            "_view_module_version": "1.2.0",
            "_model_module": "@jupyter-widgets/controls"
          }
        },
        "86c371582f1745989c5b45aa3b62a60f": {
          "model_module": "@jupyter-widgets/base",
          "model_name": "LayoutModel",
          "state": {
            "_view_name": "LayoutView",
            "grid_template_rows": null,
            "right": null,
            "justify_content": null,
            "_view_module": "@jupyter-widgets/base",
            "overflow": null,
            "_model_module_version": "1.2.0",
            "_view_count": null,
            "flex_flow": null,
            "width": null,
            "min_width": null,
            "border": null,
            "align_items": null,
            "bottom": null,
            "_model_module": "@jupyter-widgets/base",
            "top": null,
            "grid_column": null,
            "overflow_y": null,
            "overflow_x": null,
            "grid_auto_flow": null,
            "grid_area": null,
            "grid_template_columns": null,
            "flex": null,
            "_model_name": "LayoutModel",
            "justify_items": null,
            "grid_row": null,
            "max_height": null,
            "align_content": null,
            "visibility": null,
            "align_self": null,
            "height": null,
            "min_height": null,
            "padding": null,
            "grid_auto_rows": null,
            "grid_gap": null,
            "max_width": null,
            "order": null,
            "_view_module_version": "1.2.0",
            "grid_template_areas": null,
            "object_position": null,
            "object_fit": null,
            "grid_auto_columns": null,
            "margin": null,
            "display": null,
            "left": null
          }
        }
      }
    }
  },
  "cells": [
    {
      "cell_type": "markdown",
      "metadata": {
        "id": "view-in-github",
        "colab_type": "text"
      },
      "source": [
        "<a href=\"https://colab.research.google.com/github/fginter/ainl_2020_tutorial/blob/main/parser_tnpp.ipynb\" target=\"_parent\"><img src=\"https://colab.research.google.com/assets/colab-badge.svg\" alt=\"Open In Colab\"/></a>"
      ]
    },
    {
      "cell_type": "markdown",
      "metadata": {
        "id": "gCRShOw-W9Fk"
      },
      "source": [
        "# Turku Neural Parser Pipeline - Python module version\n",
        "\n",
        "* This is a basic tutorial for running the parser pipeline under Google Colab\n",
        "* Many new properties added for the AINL2020 tutorial\n",
        "  * Parser changed to Udify (87->91% LAS improvement)\n",
        "  * Code restructured so as to be importable as a module and can be installed using pip\n",
        "  * No longer depends on Tensorflow\n",
        "* Makes it possible for anyone to run the parser with GPU acceleration\n"
      ]
    },
    {
      "cell_type": "markdown",
      "metadata": {
        "id": "byCtKqKGX-Yy"
      },
      "source": [
        "# Install\n",
        "\n",
        "* Pre-built wheel, not yet in PyPi\n",
        "* Only Finnish and English models in this tutorial, more coming!\n",
        "\n",
        "## Install the parser package (takes its time)\n",
        "\n",
        "`pip3 install http://bionlp-www.utu.fi/.ginter/turku_neural_parser-0.2-py3-none-any.whl`\n",
        "\n",
        "## Download and unpack the model\n",
        "\n",
        "`wget http://bionlp-www.utu.fi/.ginter/models_fi_tdt.tar.gz ; tar zxvf models_fi_tdt.tar.gz`\n",
        "\n",
        "...and you are good to go!"
      ]
    },
    {
      "cell_type": "code",
      "metadata": {
        "id": "O3zn4zrJwAEB",
        "outputId": "77d40c4e-b96f-45ec-8d9a-4bfced593754",
        "colab": {
          "base_uri": "https://localhost:8080/",
          "height": 1000
        }
      },
      "source": [
        "!pip3 install http://bionlp-www.utu.fi/.ginter/turku_neural_parser-0.2-py3-none-any.whl"
      ],
      "execution_count": 1,
      "outputs": [
        {
          "output_type": "stream",
          "text": [
            "Collecting turku-neural-parser==0.2\n",
            "\u001b[?25l  Downloading http://bionlp-www.utu.fi/.ginter/turku_neural_parser-0.2-py3-none-any.whl (317kB)\n",
            "\u001b[K     |████████████████████████████████| 327kB 453kB/s \n",
            "\u001b[?25hRequirement already satisfied: torchtext in /usr/local/lib/python3.6/dist-packages (from turku-neural-parser==0.2) (0.3.1)\n",
            "Collecting configargparse\n",
            "\u001b[?25l  Downloading https://files.pythonhosted.org/packages/bb/79/3045743bb26ca2e44a1d317c37395462bfed82dbbd38e69a3280b63696ce/ConfigArgParse-1.2.3.tar.gz (42kB)\n",
            "\u001b[K     |████████████████████████████████| 51kB 3.8MB/s \n",
            "\u001b[?25hRequirement already satisfied: flask in /usr/local/lib/python3.6/dist-packages (from turku-neural-parser==0.2) (1.1.2)\n",
            "Requirement already satisfied: numpy in /usr/local/lib/python3.6/dist-packages (from turku-neural-parser==0.2) (1.18.5)\n",
            "Collecting ufal.udpipe\n",
            "\u001b[?25l  Downloading https://files.pythonhosted.org/packages/e5/72/2b8b9dc7c80017c790bb3308bbad34b57accfed2ac2f1f4ab252ff4e9cb2/ufal.udpipe-1.2.0.3.tar.gz (304kB)\n",
            "\u001b[K     |████████████████████████████████| 307kB 8.1MB/s \n",
            "\u001b[?25hCollecting unofficial-udify==0.1.3\n",
            "\u001b[?25l  Downloading https://files.pythonhosted.org/packages/e1/de/571ad276bf1f45c4dba5ac76bec3ecd88ef362b6b0d649774b1e89a1e198/unofficial_udify-0.1.3-py3-none-any.whl (54kB)\n",
            "\u001b[K     |████████████████████████████████| 61kB 7.3MB/s \n",
            "\u001b[?25hRequirement already satisfied: matplotlib in /usr/local/lib/python3.6/dist-packages (from turku-neural-parser==0.2) (3.2.2)\n",
            "Requirement already satisfied: pyyaml in /usr/local/lib/python3.6/dist-packages (from turku-neural-parser==0.2) (3.13)\n",
            "Requirement already satisfied: requests in /usr/local/lib/python3.6/dist-packages (from turku-neural-parser==0.2) (2.23.0)\n",
            "Requirement already satisfied: torch in /usr/local/lib/python3.6/dist-packages (from torchtext->turku-neural-parser==0.2) (1.6.0+cu101)\n",
            "Requirement already satisfied: tqdm in /usr/local/lib/python3.6/dist-packages (from torchtext->turku-neural-parser==0.2) (4.41.1)\n",
            "Requirement already satisfied: Jinja2>=2.10.1 in /usr/local/lib/python3.6/dist-packages (from flask->turku-neural-parser==0.2) (2.11.2)\n",
            "Requirement already satisfied: itsdangerous>=0.24 in /usr/local/lib/python3.6/dist-packages (from flask->turku-neural-parser==0.2) (1.1.0)\n",
            "Requirement already satisfied: Werkzeug>=0.15 in /usr/local/lib/python3.6/dist-packages (from flask->turku-neural-parser==0.2) (1.0.1)\n",
            "Requirement already satisfied: click>=5.1 in /usr/local/lib/python3.6/dist-packages (from flask->turku-neural-parser==0.2) (7.1.2)\n",
            "Collecting unofficial-allennlp-nightly==0.9.1.dev0\n",
            "\u001b[?25l  Downloading https://files.pythonhosted.org/packages/00/73/166dda68e52509004bcabafed90d5e986d10810988d5aa1ab735dec1c8a1/unofficial_allennlp_nightly-0.9.1.dev0-py3-none-any.whl (6.0MB)\n",
            "\u001b[K     |████████████████████████████████| 6.0MB 7.0MB/s \n",
            "\u001b[?25hCollecting transformers<3.0.0,>=2.3.0\n",
            "\u001b[?25l  Downloading https://files.pythonhosted.org/packages/48/35/ad2c5b1b8f99feaaf9d7cdadaeef261f098c6e1a6a2935d4d07662a6b780/transformers-2.11.0-py3-none-any.whl (674kB)\n",
            "\u001b[K     |████████████████████████████████| 675kB 61.5MB/s \n",
            "\u001b[?25hRequirement already satisfied: pyparsing!=2.0.4,!=2.1.2,!=2.1.6,>=2.0.1 in /usr/local/lib/python3.6/dist-packages (from matplotlib->turku-neural-parser==0.2) (2.4.7)\n",
            "Requirement already satisfied: python-dateutil>=2.1 in /usr/local/lib/python3.6/dist-packages (from matplotlib->turku-neural-parser==0.2) (2.8.1)\n",
            "Requirement already satisfied: cycler>=0.10 in /usr/local/lib/python3.6/dist-packages (from matplotlib->turku-neural-parser==0.2) (0.10.0)\n",
            "Requirement already satisfied: kiwisolver>=1.0.1 in /usr/local/lib/python3.6/dist-packages (from matplotlib->turku-neural-parser==0.2) (1.2.0)\n",
            "Requirement already satisfied: idna<3,>=2.5 in /usr/local/lib/python3.6/dist-packages (from requests->turku-neural-parser==0.2) (2.10)\n",
            "Requirement already satisfied: certifi>=2017.4.17 in /usr/local/lib/python3.6/dist-packages (from requests->turku-neural-parser==0.2) (2020.6.20)\n",
            "Requirement already satisfied: urllib3!=1.25.0,!=1.25.1,<1.26,>=1.21.1 in /usr/local/lib/python3.6/dist-packages (from requests->turku-neural-parser==0.2) (1.24.3)\n",
            "Requirement already satisfied: chardet<4,>=3.0.2 in /usr/local/lib/python3.6/dist-packages (from requests->turku-neural-parser==0.2) (3.0.4)\n",
            "Requirement already satisfied: future in /usr/local/lib/python3.6/dist-packages (from torch->torchtext->turku-neural-parser==0.2) (0.16.0)\n",
            "Requirement already satisfied: MarkupSafe>=0.23 in /usr/local/lib/python3.6/dist-packages (from Jinja2>=2.10.1->flask->turku-neural-parser==0.2) (1.1.1)\n",
            "Collecting tensorboardX>=1.2\n",
            "\u001b[?25l  Downloading https://files.pythonhosted.org/packages/af/0c/4f41bcd45db376e6fe5c619c01100e9b7531c55791b7244815bac6eac32c/tensorboardX-2.1-py2.py3-none-any.whl (308kB)\n",
            "\u001b[K     |████████████████████████████████| 317kB 57.1MB/s \n",
            "\u001b[?25hRequirement already satisfied: nltk in /usr/local/lib/python3.6/dist-packages (from unofficial-allennlp-nightly==0.9.1.dev0->unofficial-udify==0.1.3->turku-neural-parser==0.2) (3.2.5)\n",
            "Requirement already satisfied: editdistance in /usr/local/lib/python3.6/dist-packages (from unofficial-allennlp-nightly==0.9.1.dev0->unofficial-udify==0.1.3->turku-neural-parser==0.2) (0.5.3)\n",
            "Requirement already satisfied: scipy in /usr/local/lib/python3.6/dist-packages (from unofficial-allennlp-nightly==0.9.1.dev0->unofficial-udify==0.1.3->turku-neural-parser==0.2) (1.4.1)\n",
            "Collecting conllu==1.3.1\n",
            "  Downloading https://files.pythonhosted.org/packages/ae/54/b0ae1199f3d01666821b028cd967f7c0ac527ab162af433d3da69242cea2/conllu-1.3.1-py2.py3-none-any.whl\n",
            "Requirement already satisfied: scikit-learn in /usr/local/lib/python3.6/dist-packages (from unofficial-allennlp-nightly==0.9.1.dev0->unofficial-udify==0.1.3->turku-neural-parser==0.2) (0.22.2.post1)\n",
            "Collecting parsimonious>=0.8.0\n",
            "\u001b[?25l  Downloading https://files.pythonhosted.org/packages/02/fc/067a3f89869a41009e1a7cdfb14725f8ddd246f30f63c645e8ef8a1c56f4/parsimonious-0.8.1.tar.gz (45kB)\n",
            "\u001b[K     |████████████████████████████████| 51kB 8.2MB/s \n",
            "\u001b[?25hCollecting jsonpickle\n",
            "  Downloading https://files.pythonhosted.org/packages/af/ca/4fee219cc4113a5635e348ad951cf8a2e47fed2e3342312493f5b73d0007/jsonpickle-1.4.1-py2.py3-none-any.whl\n",
            "Requirement already satisfied: pytz>=2017.3 in /usr/local/lib/python3.6/dist-packages (from unofficial-allennlp-nightly==0.9.1.dev0->unofficial-udify==0.1.3->turku-neural-parser==0.2) (2018.9)\n",
            "Collecting word2number>=1.1\n",
            "  Downloading https://files.pythonhosted.org/packages/4a/29/a31940c848521f0725f0df6b25dca8917f13a2025b0e8fcbe5d0457e45e6/word2number-1.1.zip\n",
            "Collecting responses>=0.7\n",
            "  Downloading https://files.pythonhosted.org/packages/c1/04/8a5258cfd851c9c89ae5c12c6952c05d42ca8c0788b999806e0c78d06c54/responses-0.12.0-py2.py3-none-any.whl\n",
            "Collecting flaky\n",
            "  Downloading https://files.pythonhosted.org/packages/43/0e/2f50064e327f41a1eb811df089f813036e19a64b95e33f8e9e0b96c2447e/flaky-3.7.0-py2.py3-none-any.whl\n",
            "Requirement already satisfied: spacy<2.3,>=2.1.0 in /usr/local/lib/python3.6/dist-packages (from unofficial-allennlp-nightly==0.9.1.dev0->unofficial-udify==0.1.3->turku-neural-parser==0.2) (2.2.4)\n",
            "Collecting ftfy\n",
            "\u001b[?25l  Downloading https://files.pythonhosted.org/packages/ff/e2/3b51c53dffb1e52d9210ebc01f1fb9f2f6eba9b3201fa971fd3946643c71/ftfy-5.8.tar.gz (64kB)\n",
            "\u001b[K     |████████████████████████████████| 71kB 9.1MB/s \n",
            "\u001b[?25hRequirement already satisfied: pytest in /usr/local/lib/python3.6/dist-packages (from unofficial-allennlp-nightly==0.9.1.dev0->unofficial-udify==0.1.3->turku-neural-parser==0.2) (3.6.4)\n",
            "Requirement already satisfied: h5py in /usr/local/lib/python3.6/dist-packages (from unofficial-allennlp-nightly==0.9.1.dev0->unofficial-udify==0.1.3->turku-neural-parser==0.2) (2.10.0)\n",
            "Collecting numpydoc>=0.8.0\n",
            "\u001b[?25l  Downloading https://files.pythonhosted.org/packages/60/1d/9e398c53d6ae27d5ab312ddc16a9ffe1bee0dfdf1d6ec88c40b0ca97582e/numpydoc-1.1.0-py3-none-any.whl (47kB)\n",
            "\u001b[K     |████████████████████████████████| 51kB 8.6MB/s \n",
            "\u001b[?25hCollecting pytorch-pretrained-bert>=0.6.0\n",
            "\u001b[?25l  Downloading https://files.pythonhosted.org/packages/d7/e0/c08d5553b89973d9a240605b9c12404bcf8227590de62bae27acbcfe076b/pytorch_pretrained_bert-0.6.2-py3-none-any.whl (123kB)\n",
            "\u001b[K     |████████████████████████████████| 133kB 57.1MB/s \n",
            "\u001b[?25hRequirement already satisfied: sqlparse>=0.2.4 in /usr/local/lib/python3.6/dist-packages (from unofficial-allennlp-nightly==0.9.1.dev0->unofficial-udify==0.1.3->turku-neural-parser==0.2) (0.3.1)\n",
            "Collecting overrides==2.0\n",
            "  Downloading https://files.pythonhosted.org/packages/7a/b2/2cb6a3fc8ee1dc8617e07e476be19723748ddfcce0c6b9db7a5f2d5b9598/overrides-2.0.tar.gz\n",
            "Collecting jsonnet>=0.10.0; sys_platform != \"win32\"\n",
            "\u001b[?25l  Downloading https://files.pythonhosted.org/packages/86/70/ed1ba808a87d896b9f4d25400dda54e089ca7a97e87cee620b3744997c89/jsonnet-0.16.0.tar.gz (256kB)\n",
            "\u001b[K     |████████████████████████████████| 266kB 51.8MB/s \n",
            "\u001b[?25hCollecting boto3\n",
            "\u001b[?25l  Downloading https://files.pythonhosted.org/packages/6e/64/05d8e2aaa4af8e73add532adbb8f7c487319a8f412e17688f5e18520f965/boto3-1.15.11-py2.py3-none-any.whl (129kB)\n",
            "\u001b[K     |████████████████████████████████| 133kB 62.7MB/s \n",
            "\u001b[?25hRequirement already satisfied: packaging in /usr/local/lib/python3.6/dist-packages (from transformers<3.0.0,>=2.3.0->unofficial-udify==0.1.3->turku-neural-parser==0.2) (20.4)\n",
            "Collecting sacremoses\n",
            "\u001b[?25l  Downloading https://files.pythonhosted.org/packages/7d/34/09d19aff26edcc8eb2a01bed8e98f13a1537005d31e95233fd48216eed10/sacremoses-0.0.43.tar.gz (883kB)\n",
            "\u001b[K     |████████████████████████████████| 890kB 59.2MB/s \n",
            "\u001b[?25hCollecting sentencepiece\n",
            "\u001b[?25l  Downloading https://files.pythonhosted.org/packages/d4/a4/d0a884c4300004a78cca907a6ff9a5e9fe4f090f5d95ab341c53d28cbc58/sentencepiece-0.1.91-cp36-cp36m-manylinux1_x86_64.whl (1.1MB)\n",
            "\u001b[K     |████████████████████████████████| 1.1MB 57.0MB/s \n",
            "\u001b[?25hRequirement already satisfied: dataclasses; python_version < \"3.7\" in /usr/local/lib/python3.6/dist-packages (from transformers<3.0.0,>=2.3.0->unofficial-udify==0.1.3->turku-neural-parser==0.2) (0.7)\n",
            "Collecting tokenizers==0.7.0\n",
            "\u001b[?25l  Downloading https://files.pythonhosted.org/packages/14/e5/a26eb4716523808bb0a799fcfdceb6ebf77a18169d9591b2f46a9adb87d9/tokenizers-0.7.0-cp36-cp36m-manylinux1_x86_64.whl (3.8MB)\n",
            "\u001b[K     |████████████████████████████████| 3.8MB 57.8MB/s \n",
            "\u001b[?25hRequirement already satisfied: filelock in /usr/local/lib/python3.6/dist-packages (from transformers<3.0.0,>=2.3.0->unofficial-udify==0.1.3->turku-neural-parser==0.2) (3.0.12)\n",
            "Requirement already satisfied: regex!=2019.12.17 in /usr/local/lib/python3.6/dist-packages (from transformers<3.0.0,>=2.3.0->unofficial-udify==0.1.3->turku-neural-parser==0.2) (2019.12.20)\n",
            "Requirement already satisfied: six>=1.5 in /usr/local/lib/python3.6/dist-packages (from python-dateutil>=2.1->matplotlib->turku-neural-parser==0.2) (1.15.0)\n",
            "Requirement already satisfied: protobuf>=3.8.0 in /usr/local/lib/python3.6/dist-packages (from tensorboardX>=1.2->unofficial-allennlp-nightly==0.9.1.dev0->unofficial-udify==0.1.3->turku-neural-parser==0.2) (3.12.4)\n",
            "Requirement already satisfied: joblib>=0.11 in /usr/local/lib/python3.6/dist-packages (from scikit-learn->unofficial-allennlp-nightly==0.9.1.dev0->unofficial-udify==0.1.3->turku-neural-parser==0.2) (0.16.0)\n",
            "Requirement already satisfied: importlib-metadata in /usr/local/lib/python3.6/dist-packages (from jsonpickle->unofficial-allennlp-nightly==0.9.1.dev0->unofficial-udify==0.1.3->turku-neural-parser==0.2) (2.0.0)\n",
            "Requirement already satisfied: plac<1.2.0,>=0.9.6 in /usr/local/lib/python3.6/dist-packages (from spacy<2.3,>=2.1.0->unofficial-allennlp-nightly==0.9.1.dev0->unofficial-udify==0.1.3->turku-neural-parser==0.2) (1.1.3)\n",
            "Requirement already satisfied: thinc==7.4.0 in /usr/local/lib/python3.6/dist-packages (from spacy<2.3,>=2.1.0->unofficial-allennlp-nightly==0.9.1.dev0->unofficial-udify==0.1.3->turku-neural-parser==0.2) (7.4.0)\n",
            "Requirement already satisfied: setuptools in /usr/local/lib/python3.6/dist-packages (from spacy<2.3,>=2.1.0->unofficial-allennlp-nightly==0.9.1.dev0->unofficial-udify==0.1.3->turku-neural-parser==0.2) (50.3.0)\n",
            "Requirement already satisfied: murmurhash<1.1.0,>=0.28.0 in /usr/local/lib/python3.6/dist-packages (from spacy<2.3,>=2.1.0->unofficial-allennlp-nightly==0.9.1.dev0->unofficial-udify==0.1.3->turku-neural-parser==0.2) (1.0.2)\n",
            "Requirement already satisfied: blis<0.5.0,>=0.4.0 in /usr/local/lib/python3.6/dist-packages (from spacy<2.3,>=2.1.0->unofficial-allennlp-nightly==0.9.1.dev0->unofficial-udify==0.1.3->turku-neural-parser==0.2) (0.4.1)\n",
            "Requirement already satisfied: preshed<3.1.0,>=3.0.2 in /usr/local/lib/python3.6/dist-packages (from spacy<2.3,>=2.1.0->unofficial-allennlp-nightly==0.9.1.dev0->unofficial-udify==0.1.3->turku-neural-parser==0.2) (3.0.2)\n",
            "Requirement already satisfied: srsly<1.1.0,>=1.0.2 in /usr/local/lib/python3.6/dist-packages (from spacy<2.3,>=2.1.0->unofficial-allennlp-nightly==0.9.1.dev0->unofficial-udify==0.1.3->turku-neural-parser==0.2) (1.0.2)\n",
            "Requirement already satisfied: catalogue<1.1.0,>=0.0.7 in /usr/local/lib/python3.6/dist-packages (from spacy<2.3,>=2.1.0->unofficial-allennlp-nightly==0.9.1.dev0->unofficial-udify==0.1.3->turku-neural-parser==0.2) (1.0.0)\n",
            "Requirement already satisfied: cymem<2.1.0,>=2.0.2 in /usr/local/lib/python3.6/dist-packages (from spacy<2.3,>=2.1.0->unofficial-allennlp-nightly==0.9.1.dev0->unofficial-udify==0.1.3->turku-neural-parser==0.2) (2.0.3)\n",
            "Requirement already satisfied: wasabi<1.1.0,>=0.4.0 in /usr/local/lib/python3.6/dist-packages (from spacy<2.3,>=2.1.0->unofficial-allennlp-nightly==0.9.1.dev0->unofficial-udify==0.1.3->turku-neural-parser==0.2) (0.8.0)\n",
            "Requirement already satisfied: wcwidth in /usr/local/lib/python3.6/dist-packages (from ftfy->unofficial-allennlp-nightly==0.9.1.dev0->unofficial-udify==0.1.3->turku-neural-parser==0.2) (0.2.5)\n",
            "Requirement already satisfied: py>=1.5.0 in /usr/local/lib/python3.6/dist-packages (from pytest->unofficial-allennlp-nightly==0.9.1.dev0->unofficial-udify==0.1.3->turku-neural-parser==0.2) (1.9.0)\n",
            "Requirement already satisfied: more-itertools>=4.0.0 in /usr/local/lib/python3.6/dist-packages (from pytest->unofficial-allennlp-nightly==0.9.1.dev0->unofficial-udify==0.1.3->turku-neural-parser==0.2) (8.5.0)\n",
            "Requirement already satisfied: pluggy<0.8,>=0.5 in /usr/local/lib/python3.6/dist-packages (from pytest->unofficial-allennlp-nightly==0.9.1.dev0->unofficial-udify==0.1.3->turku-neural-parser==0.2) (0.7.1)\n",
            "Requirement already satisfied: attrs>=17.4.0 in /usr/local/lib/python3.6/dist-packages (from pytest->unofficial-allennlp-nightly==0.9.1.dev0->unofficial-udify==0.1.3->turku-neural-parser==0.2) (20.2.0)\n",
            "Requirement already satisfied: atomicwrites>=1.0 in /usr/local/lib/python3.6/dist-packages (from pytest->unofficial-allennlp-nightly==0.9.1.dev0->unofficial-udify==0.1.3->turku-neural-parser==0.2) (1.4.0)\n",
            "Requirement already satisfied: sphinx>=1.6.5 in /usr/local/lib/python3.6/dist-packages (from numpydoc>=0.8.0->unofficial-allennlp-nightly==0.9.1.dev0->unofficial-udify==0.1.3->turku-neural-parser==0.2) (1.8.5)\n",
            "Collecting botocore<1.19.0,>=1.18.11\n",
            "\u001b[?25l  Downloading https://files.pythonhosted.org/packages/1a/e0/11125c627b9fdd17652165f2500968a1f5984496b60cebf3280fa5528c95/botocore-1.18.11-py2.py3-none-any.whl (6.7MB)\n",
            "\u001b[K     |████████████████████████████████| 6.7MB 51.5MB/s \n",
            "\u001b[?25hCollecting s3transfer<0.4.0,>=0.3.0\n",
            "\u001b[?25l  Downloading https://files.pythonhosted.org/packages/69/79/e6afb3d8b0b4e96cefbdc690f741d7dd24547ff1f94240c997a26fa908d3/s3transfer-0.3.3-py2.py3-none-any.whl (69kB)\n",
            "\u001b[K     |████████████████████████████████| 71kB 9.5MB/s \n",
            "\u001b[?25hCollecting jmespath<1.0.0,>=0.7.1\n",
            "  Downloading https://files.pythonhosted.org/packages/07/cb/5f001272b6faeb23c1c9e0acc04d48eaaf5c862c17709d20e3469c6e0139/jmespath-0.10.0-py2.py3-none-any.whl\n",
            "Requirement already satisfied: zipp>=0.5 in /usr/local/lib/python3.6/dist-packages (from importlib-metadata->jsonpickle->unofficial-allennlp-nightly==0.9.1.dev0->unofficial-udify==0.1.3->turku-neural-parser==0.2) (3.2.0)\n",
            "Requirement already satisfied: snowballstemmer>=1.1 in /usr/local/lib/python3.6/dist-packages (from sphinx>=1.6.5->numpydoc>=0.8.0->unofficial-allennlp-nightly==0.9.1.dev0->unofficial-udify==0.1.3->turku-neural-parser==0.2) (2.0.0)\n",
            "Requirement already satisfied: imagesize in /usr/local/lib/python3.6/dist-packages (from sphinx>=1.6.5->numpydoc>=0.8.0->unofficial-allennlp-nightly==0.9.1.dev0->unofficial-udify==0.1.3->turku-neural-parser==0.2) (1.2.0)\n",
            "Requirement already satisfied: alabaster<0.8,>=0.7 in /usr/local/lib/python3.6/dist-packages (from sphinx>=1.6.5->numpydoc>=0.8.0->unofficial-allennlp-nightly==0.9.1.dev0->unofficial-udify==0.1.3->turku-neural-parser==0.2) (0.7.12)\n",
            "Requirement already satisfied: babel!=2.0,>=1.3 in /usr/local/lib/python3.6/dist-packages (from sphinx>=1.6.5->numpydoc>=0.8.0->unofficial-allennlp-nightly==0.9.1.dev0->unofficial-udify==0.1.3->turku-neural-parser==0.2) (2.8.0)\n",
            "Requirement already satisfied: Pygments>=2.0 in /usr/local/lib/python3.6/dist-packages (from sphinx>=1.6.5->numpydoc>=0.8.0->unofficial-allennlp-nightly==0.9.1.dev0->unofficial-udify==0.1.3->turku-neural-parser==0.2) (2.6.1)\n",
            "Requirement already satisfied: docutils>=0.11 in /usr/local/lib/python3.6/dist-packages (from sphinx>=1.6.5->numpydoc>=0.8.0->unofficial-allennlp-nightly==0.9.1.dev0->unofficial-udify==0.1.3->turku-neural-parser==0.2) (0.16)\n",
            "Requirement already satisfied: sphinxcontrib-websupport in /usr/local/lib/python3.6/dist-packages (from sphinx>=1.6.5->numpydoc>=0.8.0->unofficial-allennlp-nightly==0.9.1.dev0->unofficial-udify==0.1.3->turku-neural-parser==0.2) (1.2.4)\n",
            "Requirement already satisfied: sphinxcontrib-serializinghtml in /usr/local/lib/python3.6/dist-packages (from sphinxcontrib-websupport->sphinx>=1.6.5->numpydoc>=0.8.0->unofficial-allennlp-nightly==0.9.1.dev0->unofficial-udify==0.1.3->turku-neural-parser==0.2) (1.1.4)\n",
            "Building wheels for collected packages: configargparse, ufal.udpipe, parsimonious, word2number, ftfy, overrides, jsonnet, sacremoses\n",
            "  Building wheel for configargparse (setup.py) ... \u001b[?25l\u001b[?25hdone\n",
            "  Created wheel for configargparse: filename=ConfigArgParse-1.2.3-cp36-none-any.whl size=19329 sha256=3e1113a46da2fdfa4f99610327aaafbd6c744138f3858e3fb397f7e77344a989\n",
            "  Stored in directory: /root/.cache/pip/wheels/bd/d6/53/034032da9498bda2385cd50a51a289e88090b5da2d592b1fdf\n",
            "  Building wheel for ufal.udpipe (setup.py) ... \u001b[?25l\u001b[?25hdone\n",
            "  Created wheel for ufal.udpipe: filename=ufal.udpipe-1.2.0.3-cp36-cp36m-linux_x86_64.whl size=5625250 sha256=7016030ac8545d22563362d602a7a6eae80db0f4ecdc414e07a4593b678d046b\n",
            "  Stored in directory: /root/.cache/pip/wheels/0c/9d/db/6d3404c33da5b7adb6c6972853efb6a27649d3ba15f7e9bebb\n",
            "  Building wheel for parsimonious (setup.py) ... \u001b[?25l\u001b[?25hdone\n",
            "  Created wheel for parsimonious: filename=parsimonious-0.8.1-cp36-none-any.whl size=42709 sha256=d9a1b9a08d2567f6da306f1e13bbc5ea44a419a842bbebe03f2cadcc440d4c5d\n",
            "  Stored in directory: /root/.cache/pip/wheels/b7/8d/e7/a0e74217da5caeb3c1c7689639b6d28ddbf9985b840bc96a9a\n",
            "  Building wheel for word2number (setup.py) ... \u001b[?25l\u001b[?25hdone\n",
            "  Created wheel for word2number: filename=word2number-1.1-cp36-none-any.whl size=5588 sha256=432f9cb1f239617728d52c6483293b2d527df85e6906702cfcdd419b989ce14a\n",
            "  Stored in directory: /root/.cache/pip/wheels/46/2f/53/5f5c1d275492f2fce1cdab9a9bb12d49286dead829a4078e0e\n",
            "  Building wheel for ftfy (setup.py) ... \u001b[?25l\u001b[?25hdone\n",
            "  Created wheel for ftfy: filename=ftfy-5.8-cp36-none-any.whl size=45612 sha256=cfbe6cf46994fe2e27dabe470d562ca3364397962b371039252844f59a7f5918\n",
            "  Stored in directory: /root/.cache/pip/wheels/ba/c0/ef/f28c4da5ac84a4e06ac256ca9182fc34fa57fefffdbc68425b\n",
            "  Building wheel for overrides (setup.py) ... \u001b[?25l\u001b[?25hdone\n",
            "  Created wheel for overrides: filename=overrides-2.0-cp36-none-any.whl size=4221 sha256=74c861ffaf67af15d5175957cedeca4a97a96045cedb370730116fa74d385cb3\n",
            "  Stored in directory: /root/.cache/pip/wheels/67/ab/57/d68b6dad468ff96b792770a83229451add2b347b0c12a10300\n",
            "  Building wheel for jsonnet (setup.py) ... \u001b[?25l\u001b[?25hdone\n",
            "  Created wheel for jsonnet: filename=jsonnet-0.16.0-cp36-cp36m-linux_x86_64.whl size=3321604 sha256=ac350660be525daf6ef048396b5d0dd0e9a11a4d2975a34f508f482d68d9b964\n",
            "  Stored in directory: /root/.cache/pip/wheels/64/a9/43/bc5e0463deeec89dfca928a2a64595f1bdb520c891f6fbd09c\n",
            "  Building wheel for sacremoses (setup.py) ... \u001b[?25l\u001b[?25hdone\n",
            "  Created wheel for sacremoses: filename=sacremoses-0.0.43-cp36-none-any.whl size=893257 sha256=9a111dcd99d4d07ec0a31b69f2d33abfb2b5fcb557ca6d4ad3d5de7a6aa16427\n",
            "  Stored in directory: /root/.cache/pip/wheels/29/3c/fd/7ce5c3f0666dab31a50123635e6fb5e19ceb42ce38d4e58f45\n",
            "Successfully built configargparse ufal.udpipe parsimonious word2number ftfy overrides jsonnet sacremoses\n",
            "\u001b[31mERROR: responses 0.12.0 has requirement urllib3>=1.25.10, but you'll have urllib3 1.24.3 which is incompatible.\u001b[0m\n",
            "\u001b[31mERROR: unofficial-allennlp-nightly 0.9.1.dev0 has requirement python-dateutil<2.8.1, but you'll have python-dateutil 2.8.1 which is incompatible.\u001b[0m\n",
            "Installing collected packages: configargparse, ufal.udpipe, tensorboardX, sacremoses, sentencepiece, tokenizers, transformers, conllu, parsimonious, jsonpickle, word2number, responses, flaky, ftfy, numpydoc, jmespath, botocore, s3transfer, boto3, pytorch-pretrained-bert, overrides, jsonnet, unofficial-allennlp-nightly, unofficial-udify, turku-neural-parser\n",
            "Successfully installed boto3-1.15.11 botocore-1.18.11 configargparse-1.2.3 conllu-1.3.1 flaky-3.7.0 ftfy-5.8 jmespath-0.10.0 jsonnet-0.16.0 jsonpickle-1.4.1 numpydoc-1.1.0 overrides-2.0 parsimonious-0.8.1 pytorch-pretrained-bert-0.6.2 responses-0.12.0 s3transfer-0.3.3 sacremoses-0.0.43 sentencepiece-0.1.91 tensorboardX-2.1 tokenizers-0.7.0 transformers-2.11.0 turku-neural-parser-0.2 ufal.udpipe-1.2.0.3 unofficial-allennlp-nightly-0.9.1.dev0 unofficial-udify-0.1.3 word2number-1.1\n"
          ],
          "name": "stdout"
        }
      ]
    },
    {
      "cell_type": "code",
      "metadata": {
        "id": "Ue9vzD93xLyt",
        "outputId": "34595896-f06c-4652-f618-e2c594b24ff5",
        "colab": {
          "base_uri": "https://localhost:8080/",
          "height": 578
        }
      },
      "source": [
        "!wget  http://bionlp-www.utu.fi/.ginter/models_fi_tdt.tar.gz ; tar zxvf models_fi_tdt.tar.gz"
      ],
      "execution_count": 2,
      "outputs": [
        {
          "output_type": "stream",
          "text": [
            "--2020-10-05 12:50:12--  http://bionlp-www.utu.fi/.ginter/models_fi_tdt.tar.gz\n",
            "Resolving bionlp-www.utu.fi (bionlp-www.utu.fi)... 130.232.253.44\n",
            "Connecting to bionlp-www.utu.fi (bionlp-www.utu.fi)|130.232.253.44|:80... connected.\n",
            "HTTP request sent, awaiting response... 200 OK\n",
            "Length: 1103284160 (1.0G) [text/plain]\n",
            "Saving to: ‘models_fi_tdt.tar.gz’\n",
            "\n",
            "models_fi_tdt.tar.g 100%[===================>]   1.03G  79.5MB/s    in 30s     \n",
            "\n",
            "2020-10-05 12:50:42 (35.2 MB/s) - ‘models_fi_tdt.tar.gz’ saved [1103284160/1103284160]\n",
            "\n",
            "models_fi_tdt/\n",
            "models_fi_tdt/Udify/\n",
            "models_fi_tdt/Udify/tdt-udify-model.tar.gz\n",
            "models_fi_tdt/Udify/weights.th\n",
            "models_fi_tdt/Udify/vocabulary/\n",
            "models_fi_tdt/Udify/vocabulary/head_tags.txt\n",
            "models_fi_tdt/Udify/vocabulary/feats.txt\n",
            "models_fi_tdt/Udify/vocabulary/token_characters.txt\n",
            "models_fi_tdt/Udify/vocabulary/tokens.txt\n",
            "models_fi_tdt/Udify/vocabulary/upos.txt\n",
            "models_fi_tdt/Udify/vocabulary/xpos.txt\n",
            "models_fi_tdt/Udify/vocabulary/non_padded_namespaces.txt\n",
            "models_fi_tdt/Udify/vocabulary/lemmas.txt\n",
            "models_fi_tdt/Udify/config.json\n",
            "models_fi_tdt/pipelines.yaml\n",
            "models_fi_tdt/README\n",
            "models_fi_tdt/Lemmatizer/\n",
            "models_fi_tdt/Lemmatizer/big_lemma_cache.tsv\n",
            "models_fi_tdt/Lemmatizer/lemma_cache.tsv\n",
            "models_fi_tdt/Lemmatizer/lemmatizer.pt\n",
            "models_fi_tdt/Tokenizer/\n",
            "models_fi_tdt/Tokenizer/tokenizer.udpipe\n"
          ],
          "name": "stdout"
        }
      ]
    },
    {
      "cell_type": "markdown",
      "metadata": {
        "id": "fpRs20VfbLT2"
      },
      "source": [
        "# Running the parser\n",
        "\n",
        "* Every model can specify many processing pipelines\n",
        "* These are in `modeldir/pipelines.yaml`\n",
        "* `parse_plaintext`is the default"
      ]
    },
    {
      "cell_type": "code",
      "metadata": {
        "id": "9jCpvDULxW8p",
        "outputId": "2199f2f8-6c4e-42e2-e009-ba5b89c97820",
        "colab": {
          "base_uri": "https://localhost:8080/",
          "height": 34
        }
      },
      "source": [
        "from tnparser.pipeline import read_pipelines, Pipeline\n",
        "\n",
        "available_pipelines=read_pipelines(\"models_fi_tdt/pipelines.yaml\")\n",
        "print(list(available_pipelines.keys()))\n"
      ],
      "execution_count": 3,
      "outputs": [
        {
          "output_type": "stream",
          "text": [
            "['parse_plaintext', 'parse_sentlines', 'parse_wslines', 'parse_conllu', 'tokenize']\n"
          ],
          "name": "stdout"
        }
      ]
    },
    {
      "cell_type": "code",
      "metadata": {
        "id": "CeFgUzS5dLKp",
        "outputId": "1d91dee2-2776-434a-943e-680e8bebed51",
        "colab": {
          "base_uri": "https://localhost:8080/",
          "height": 324,
          "referenced_widgets": [
            "a6b849c5eff2431c992e2c027a1930ad",
            "f743b7eade844fbc8e865ba076d1a2b2",
            "bae13a291d8c45f08033ba1bfaa7205d",
            "824dc75176494a2a911d17bdc5663ef7",
            "5d720b535e174d12a9f0d202985c33a0",
            "65453b76dbe94259add181d3cf9fd12d",
            "f71b6aa4163c4357bba616554ed935d3",
            "86c371582f1745989c5b45aa3b62a60f"
          ]
        }
      },
      "source": [
        "p=Pipeline(available_pipelines[\"parse_plaintext\"])\n",
        "parsed=p.parse(\"Minulla on ruskea koira! Se haukuu ja juoksee. Voi että!\")"
      ],
      "execution_count": 4,
      "outputs": [
        {
          "output_type": "stream",
          "text": [
            "\n"
          ],
          "name": "stdout"
        },
        {
          "output_type": "display_data",
          "data": {
            "application/vnd.jupyter.widget-view+json": {
              "model_id": "a6b849c5eff2431c992e2c027a1930ad",
              "version_minor": 0,
              "version_major": 2
            },
            "text/plain": [
              "HBox(children=(FloatProgress(value=0.0, description='Downloading', max=424343.0, style=ProgressStyle(descripti…"
            ]
          },
          "metadata": {
            "tags": []
          }
        },
        {
          "output_type": "stream",
          "text": [
            "\n"
          ],
          "name": "stdout"
        },
        {
          "output_type": "stream",
          "text": [
            "Dataset reader: <class 'udify.dataset_readers.universal_dependencies.UniversalDependenciesDatasetReader'>\n",
            "0it [00:00, ?it/s]Your label namespace was 'upos'. We recommend you use a namespace ending with 'labels' or 'tags', so we don't add UNK and PAD tokens by default to your vocabulary.  See documentation for `non_padded_namespaces` parameter in Vocabulary.\n",
            "Your label namespace was 'xpos'. We recommend you use a namespace ending with 'labels' or 'tags', so we don't add UNK and PAD tokens by default to your vocabulary.  See documentation for `non_padded_namespaces` parameter in Vocabulary.\n",
            "Your label namespace was 'feats'. We recommend you use a namespace ending with 'labels' or 'tags', so we don't add UNK and PAD tokens by default to your vocabulary.  See documentation for `non_padded_namespaces` parameter in Vocabulary.\n",
            "Your label namespace was 'lemmas'. We recommend you use a namespace ending with 'labels' or 'tags', so we don't add UNK and PAD tokens by default to your vocabulary.  See documentation for `non_padded_namespaces` parameter in Vocabulary.\n",
            "3it [00:00, 216.96it/s]\n",
            "/usr/local/lib/python3.6/dist-packages/allennlp/data/token_indexers/token_indexer.py:119: FutureWarning: Using a Field with pad_token_sequence, which will be depreciated in 1.0.0.Please implement as_padded_tensor instead.\n",
            "  FutureWarning,\n",
            "/usr/local/lib/python3.6/dist-packages/udify/models/dependency_decoder.py:493: UserWarning: Mixed memory format inputs detected while calling the operator. The operator will output contiguous tensor even if some of the inputs are in channels_last format. (Triggered internally at  /pytorch/aten/src/ATen/native/TensorIterator.cpp:918.)\n",
            "  normalized_arc_logits.unsqueeze(1) + normalized_pairwise_head_logits\n",
            "Encountered the arc_loss key in the model's return dictionary which couldn't be split by the batch size. Key will be ignored.\n",
            "Encountered the tag_loss key in the model's return dictionary which couldn't be split by the batch size. Key will be ignored.\n",
            "Encountered the loss key in the model's return dictionary which couldn't be split by the batch size. Key will be ignored.\n"
          ],
          "name": "stderr"
        }
      ]
    },
    {
      "cell_type": "code",
      "metadata": {
        "id": "hqZokOvhd7KW",
        "outputId": "426bea49-687b-4b7f-f476-a006daa5f22a",
        "colab": {
          "base_uri": "https://localhost:8080/",
          "height": 306
        }
      },
      "source": [
        "print(parsed)"
      ],
      "execution_count": 5,
      "outputs": [
        {
          "output_type": "stream",
          "text": [
            "1\tMinulla\tminä\tPRON\t_\tCase=Ade|Number=Sing|Person=1|PronType=Prs\t0\troot\t_\t_\n",
            "2\ton\tolla\tAUX\t_\tMood=Ind|Number=Sing|Person=3|Tense=Pres|VerbForm=Fin|Voice=Act\t1\tcop:own\t_\t_\n",
            "3\truskea\truskea\tADJ\t_\tCase=Nom|Degree=Pos|Number=Sing\t4\tamod\t_\t_\n",
            "4\tkoira\tkoira\tNOUN\t_\tCase=Nom|Number=Sing\t1\tnsubj:cop\t_\t_\n",
            "5\t!\t!\tPUNCT\t_\t_\t1\tpunct\t_\t_\n",
            "\n",
            "1\tSe\tse\tPRON\t_\tCase=Nom|Number=Sing|PronType=Dem\t2\tnsubj\t_\t_\n",
            "2\thaukuu\thaukua\tVERB\t_\tMood=Ind|Number=Sing|Person=3|Tense=Pres|VerbForm=Fin|Voice=Act\t0\troot\t_\t_\n",
            "3\tja\tja\tCCONJ\t_\t_\t4\tcc\t_\t_\n",
            "4\tjuoksee\tjuosta\tVERB\t_\tMood=Ind|Number=Sing|Person=3|Tense=Pres|VerbForm=Fin|Voice=Act\t2\tconj\t_\t_\n",
            "5\t.\t.\tPUNCT\t_\t_\t2\tpunct\t_\t_\n",
            "\n",
            "1\tVoi\tvoi\tINTJ\t_\t_\t0\troot\t_\t_\n",
            "2\tettä\tettä\tINTJ\t_\t_\t1\tfixed\t_\t_\n",
            "3\t!\t!\tPUNCT\t_\t_\t1\tpunct\t_\t_\n",
            "\n",
            "\n"
          ],
          "name": "stdout"
        }
      ]
    },
    {
      "cell_type": "markdown",
      "metadata": {
        "id": "0bXEDdThfM-Z"
      },
      "source": [
        "# GPU mode\n",
        "\n",
        "* The pipeline runs by default in CPU mode\n",
        "* Needs to be told to run in GPU\n",
        "* This is a bit tricky right now but not impossible\n",
        "* Note: if you now switch the Runtime into GPU, you need to re-run the pip install\n"
      ]
    },
    {
      "cell_type": "code",
      "metadata": {
        "id": "Tt3slQjCfoEd",
        "outputId": "bffe0b1a-2581-49b7-ad82-b1506aed6d82",
        "colab": {
          "base_uri": "https://localhost:8080/",
          "height": 275
        }
      },
      "source": [
        "#I do realize this ain't good! :)\n",
        "import types\n",
        "extra_args=types.SimpleNamespace()\n",
        "extra_args.__dict__[\"udify.device\"]=\"0\" #simulates someone giving a --device 0 parameter to Udify\n",
        "\n",
        "p=Pipeline(available_pipelines[\"parse_plaintext\"],extra_args)\n",
        "parsed=p.parse(\"Minulla on ruskea koira! Se haukuu ja juoksee. Voi että!\")\n",
        "print(\"Parsed has this many lines:\",len(parsed.split(\"\\n\")))\n"
      ],
      "execution_count": 8,
      "outputs": [
        {
          "output_type": "stream",
          "text": [
            "Dataset reader: <class 'udify.dataset_readers.universal_dependencies.UniversalDependenciesDatasetReader'>\n",
            "0it [00:00, ?it/s]Your label namespace was 'upos'. We recommend you use a namespace ending with 'labels' or 'tags', so we don't add UNK and PAD tokens by default to your vocabulary.  See documentation for `non_padded_namespaces` parameter in Vocabulary.\n",
            "Your label namespace was 'xpos'. We recommend you use a namespace ending with 'labels' or 'tags', so we don't add UNK and PAD tokens by default to your vocabulary.  See documentation for `non_padded_namespaces` parameter in Vocabulary.\n",
            "Your label namespace was 'feats'. We recommend you use a namespace ending with 'labels' or 'tags', so we don't add UNK and PAD tokens by default to your vocabulary.  See documentation for `non_padded_namespaces` parameter in Vocabulary.\n",
            "Your label namespace was 'lemmas'. We recommend you use a namespace ending with 'labels' or 'tags', so we don't add UNK and PAD tokens by default to your vocabulary.  See documentation for `non_padded_namespaces` parameter in Vocabulary.\n",
            "3it [00:00, 183.59it/s]\n",
            "/usr/local/lib/python3.6/dist-packages/allennlp/data/token_indexers/token_indexer.py:119: FutureWarning: Using a Field with pad_token_sequence, which will be depreciated in 1.0.0.Please implement as_padded_tensor instead.\n",
            "  FutureWarning,\n",
            "/usr/local/lib/python3.6/dist-packages/udify/models/dependency_decoder.py:493: UserWarning: Mixed memory format inputs detected while calling the operator. The operator will output contiguous tensor even if some of the inputs are in channels_last format. (Triggered internally at  /pytorch/aten/src/ATen/native/TensorIterator.cpp:918.)\n",
            "  normalized_arc_logits.unsqueeze(1) + normalized_pairwise_head_logits\n",
            "Encountered the arc_loss key in the model's return dictionary which couldn't be split by the batch size. Key will be ignored.\n",
            "Encountered the tag_loss key in the model's return dictionary which couldn't be split by the batch size. Key will be ignored.\n",
            "Encountered the loss key in the model's return dictionary which couldn't be split by the batch size. Key will be ignored.\n"
          ],
          "name": "stderr"
        },
        {
          "output_type": "stream",
          "text": [
            "Parsed has this many lines: 17\n"
          ],
          "name": "stdout"
        }
      ]
    },
    {
      "cell_type": "code",
      "metadata": {
        "id": "vRGxN0bN1Nev",
        "outputId": "3808641a-8459-4a78-e736-f04506085ef1",
        "colab": {
          "base_uri": "https://localhost:8080/",
          "height": 34
        }
      },
      "source": [
        "#Since we are on a GPU, we can try to push through quite a bit more of data\n",
        "parsed=p.parse(\"Minulla on ruskea koira! Se haukuu ja juoksee. Voi että! \"*200) #takes forever on CPU, finishes in few seconds on GPU\n",
        "print(\"Parsed has this many lines:\",len(parsed.split(\"\\n\")))"
      ],
      "execution_count": 9,
      "outputs": [
        {
          "output_type": "stream",
          "text": [
            "Parsed has this many lines: 3201\n"
          ],
          "name": "stdout"
        }
      ]
    },
    {
      "cell_type": "markdown",
      "metadata": {
        "id": "G90KC9dFfp-h"
      },
      "source": [
        "# Process the output\n",
        "\n",
        "* The output of the pipeline run is a conll-u string\n",
        "* You can parse it in any number of ways\n",
        "* This is my preferred:"
      ]
    },
    {
      "cell_type": "code",
      "metadata": {
        "id": "enQ-xvnff599",
        "outputId": "cd255e88-bf75-4aad-d39b-b38e26992f0b",
        "colab": {
          "base_uri": "https://localhost:8080/",
          "height": 272
        }
      },
      "source": [
        "ID,FORM,LEMMA,UPOS,XPOS,FEAT,HEAD,DEPREL,DEPS,MISC=range(10) #the 10 columns\n",
        "\n",
        "def read_conll(inp,max_sent=0,drop_tokens=True,drop_nulls=True):\n",
        "    \"\"\"\n",
        "    inp: list of lines or an open file\n",
        "    max_sent: 0 for all, >0 to limit\n",
        "    drop_tokens: ignore multiword token lines\n",
        "    drop_nulls: ignore null nodes in enhanced dependencies\n",
        "\n",
        "    Yields lines of the parse and comments\n",
        "    \"\"\"\n",
        "\n",
        "    comments=[]\n",
        "    sent=[]\n",
        "    yielded=0\n",
        "    for line in inp:\n",
        "        line=line.rstrip(\"\\n\")\n",
        "        if line.startswith(\"#\"):\n",
        "            comments.append(line)\n",
        "        elif not line:\n",
        "            if sent:\n",
        "                yield sent,comments\n",
        "                yielded+=1\n",
        "                if max_sent>0 and yielded==max_sent:\n",
        "                    break\n",
        "                sent,comments=[],[]\n",
        "        else:\n",
        "            cols=line.split(\"\\t\")\n",
        "            if drop_tokens and \"-\" in cols[ID]:\n",
        "                continue\n",
        "            if drop_nulls and \".\" in cols[ID]:\n",
        "                continue\n",
        "            sent.append(cols)\n",
        "    else:\n",
        "        if sent:\n",
        "            yield sent,comments\n",
        "\n",
        "for one_sent,comments in read_conll(parsed.split(\"\\n\"),5):\n",
        "    words=(word_line[FORM] for word_line in one_sent)\n",
        "    lemmas=(word_line[LEMMA] for word_line in one_sent)\n",
        "    print(\" \".join(words))\n",
        "    print(\" \".join(lemmas))\n",
        "    print()\n",
        "\n",
        "# and that's really all there is to it :)\n"
      ],
      "execution_count": 11,
      "outputs": [
        {
          "output_type": "stream",
          "text": [
            "Minulla on ruskea koira !\n",
            "minä olla ruskea koira !\n",
            "\n",
            "Se haukuu ja juoksee .\n",
            "se haukua ja juosta .\n",
            "\n",
            "Voi että !\n",
            "voi että !\n",
            "\n",
            "Minulla on ruskea koira !\n",
            "minä olla ruskea koira !\n",
            "\n",
            "Se haukuu ja juoksee .\n",
            "se haukua ja juosta .\n",
            "\n"
          ],
          "name": "stdout"
        }
      ]
    }
  ]
}